{
 "cells": [
  {
   "cell_type": "code",
   "execution_count": null,
   "id": "22b6cabd",
   "metadata": {},
   "outputs": [],
   "source": [
    "from ultralytics import YOLO\n",
    "from google.colab import files\n",
    "import locale\n",
    "from google.colab import output\n",
    "import os\n",
    "import zipfile"
   ]
  },
  {
   "cell_type": "code",
   "execution_count": null,
   "id": "18abc5fb",
   "metadata": {},
   "outputs": [],
   "source": [
    "uploaded = files.upload()"
   ]
  },
  {
   "cell_type": "code",
   "execution_count": null,
   "id": "d447d5c0",
   "metadata": {},
   "outputs": [],
   "source": [
    "zip_path = \"/content/xyz.v1i.yolov8.zip\"\n",
    "extract_path = \"/content/dataset1\"\n",
    "\n",
    "\n",
    "with zipfile.ZipFile(zip_path, 'r') as zip_ref:\n",
    "    zip_ref.extractall(extract_path)\n",
    "\n",
    "print(\"Extraction complete!\")"
   ]
  },
  {
   "cell_type": "code",
   "execution_count": null,
   "id": "894f10a7",
   "metadata": {},
   "outputs": [],
   "source": [
    "train = \"/xyz.v1i.yolov8/dataset1/train/images\"\n",
    "val = \"/xyz.v1i.yolov8/dataset1/valid/images\""
   ]
  },
  {
   "cell_type": "code",
   "execution_count": null,
   "id": "4336c5ac",
   "metadata": {},
   "outputs": [],
   "source": [
    "from roboflow import Roboflow\n",
    "rf = Roboflow(api_key=\"RYfS8057buHiQyepvl68\")\n",
    "project = rf.workspace(\"panatsmpproject\").project(\"xyz-6dw0f\")\n",
    "version = project.version(1)\n",
    "dataset = version.download(\"yolov8\")"
   ]
  },
  {
   "cell_type": "code",
   "execution_count": null,
   "id": "f6aca580",
   "metadata": {},
   "outputs": [],
   "source": [
    "model = YOLO(\"yolov8n.yaml\")"
   ]
  },
  {
   "cell_type": "code",
   "execution_count": null,
   "id": "3f343e18",
   "metadata": {},
   "outputs": [],
   "source": [
    "print(os.listdir(\"/content/\"))"
   ]
  },
  {
   "cell_type": "code",
   "execution_count": null,
   "id": "d58a495a",
   "metadata": {},
   "outputs": [],
   "source": [
    "print(os.listdir(\"/content/dataset1\"))"
   ]
  },
  {
   "cell_type": "code",
   "execution_count": null,
   "id": "808789fd",
   "metadata": {},
   "outputs": [],
   "source": [
    "print(\"Checking dataset structure...\\n\")\n",
    "print(\"Dataset root:\", os.listdir(\"/content/dataset1\"))\n",
    "print(\"Train folder:\", os.listdir(\"/content/dataset1/train\") if os.path.exists(\"/content/dataset1/train\") else \"Not found\")\n",
    "print(\"Valid folder:\", os.listdir(\"/content/dataset1/valid\") if os.path.exists(\"/content/dataset1/valid\") else \"Not found\")"
   ]
  },
  {
   "cell_type": "code",
   "execution_count": null,
   "id": "f3cabc1c",
   "metadata": {},
   "outputs": [],
   "source": [
    "hyperparams = \"\"\"\n",
    "lr0: 0.01\n",
    "lrf: 0.01\n",
    "momentum: 0.937\n",
    "weight_decay: 0.0005\n",
    "warmup_epochs: 3.0\n",
    "warmup_momentum: 0.8\n",
    "box: 7.5\n",
    "cls: 0.5\n",
    "dfl: 1.5\n",
    "hsv_h: 0.015\n",
    "hsv_s: 0.7\n",
    "hsv_v: 0.4\n",
    "degrees: 0.0\n",
    "translate: 0.1\n",
    "scale: 0.5\n",
    "shear: 0.0\n",
    "perspective: 0.0\n",
    "flipud: 0.0\n",
    "fliplr: 0.5\n",
    "mosaic: 1.0\n",
    "mixup: 0.0\n",
    "copy_paste: 0.0\n",
    "\"\"\"\n",
    "with open(\"best_hyperparameters.yaml\", \"w\") as file:\n",
    "    file.write(hyperparams)\n",
    "print(\"best_hyperparameters.yaml saved successfully!\")"
   ]
  },
  {
   "cell_type": "code",
   "execution_count": null,
   "id": "c80c7a13",
   "metadata": {},
   "outputs": [],
   "source": [
    "print(os.path.exists(\"best_hyperparameters.yaml\"))"
   ]
  },
  {
   "cell_type": "code",
   "execution_count": null,
   "id": "d571a3bb",
   "metadata": {},
   "outputs": [],
   "source": [
    "res = model.tune(data=\"/content/dataset1/data.yaml\", imgsz=1280, batch=4, epochs=30 , plots=False, save=False)"
   ]
  },
  {
   "cell_type": "code",
   "execution_count": null,
   "id": "4a164cf1",
   "metadata": {},
   "outputs": [],
   "source": [
    "model.train(data=\"/content/dataset1/data.yaml\", imgsz=1280, batch=4, epochs=20, cfg=\"best_hyperparameters.yaml\", workers=8, device=0, nbs=8, patience=20)  # train the model"
   ]
  },
  {
   "cell_type": "code",
   "execution_count": null,
   "id": "71aa905f",
   "metadata": {},
   "outputs": [],
   "source": [
    "def getpreferredencoding(do_setlocale = True):\n",
    "    return \"UTF-8\"\n",
    "locale.getpreferredencoding = getpreferredencoding"
   ]
  },
  {
   "cell_type": "code",
   "execution_count": null,
   "id": "26eed733",
   "metadata": {},
   "outputs": [],
   "source": [
    "files.download(\"/content/runs.zip\")"
   ]
  }
 ],
 "metadata": {
  "language_info": {
   "name": "python"
  }
 },
 "nbformat": 4,
 "nbformat_minor": 5
}
