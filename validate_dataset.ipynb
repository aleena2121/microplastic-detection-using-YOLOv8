{
 "cells": [
  {
   "cell_type": "code",
   "execution_count": null,
   "id": "cf9add89",
   "metadata": {},
   "outputs": [],
   "source": [
    "import numpy as np # linear algebra\n",
    "import pandas as pd # data processing, CSV file I/O (e.g. pd.read_csv)\n",
    "from PIL import Image \n",
    "import matplotlib.pyplot as plt\n",
    "import matplotlib.patches as patches \n"
   ]
  },
  {
   "cell_type": "code",
   "execution_count": null,
   "id": "183cc04d",
   "metadata": {},
   "outputs": [],
   "source": [
    "import os\n",
    "for dirname, _, filenames in os.walk('archive'):\n",
    " print(os.path.join(dirn"
   ]
  },
  {
   "cell_type": "code",
   "execution_count": null,
   "id": "3c06e327",
   "metadata": {},
   "outputs": [],
   "source": [
    "def get_data(path):\n",
    "    images = []\n",
    "    filename = []\n",
    "    for root, dirs, files in os.walk(path):\n",
    "        for file in files:\n",
    "            if file.endswith('.jpg'):\n",
    "                file_path = os.path.join(root, file)\n",
    "                img = Image.open(file_path)\n",
    "                images.append(img)\n",
    "                filename.append(file)\n",
    "            if file.endswith('.csv'):\n",
    "                file_path = os.path.join(root, file)\n",
    "                df = pd.read_csv(file_path)\n",
    "    return images, filename, df "
   ]
  },
  {
   "cell_type": "code",
   "execution_count": null,
   "id": "14316394",
   "metadata": {},
   "outputs": [],
   "source": [
    "train_dir = 'archive/train'\n",
    "val_dir = 'archive/valid' "
   ]
  },
  {
   "cell_type": "code",
   "execution_count": null,
   "id": "b90909f3",
   "metadata": {},
   "outputs": [],
   "source": [
    "val_unique_width = val_df[\"width\"].unique()\n",
    "val_unique_height = val_df[\"height\"].unique()\n",
    "train_unique_width = train_df[\"width\"].unique()\n",
    "train_unique_height = train_df[\"height\"].unique()\n",
    "len(train_unique_width), len(train_unique_height), len(val_unique_width), len(val_unique_height)"
   ]
  },
  {
   "cell_type": "code",
   "execution_count": null,
   "id": "2905b736",
   "metadata": {},
   "outputs": [],
   "source": [
    "def check_the_img_size(folder):\n",
    "    for img in folder:\n",
    "    if img.size != (563, 537):\n",
    "        print(img.size)\n",
    "check_the_img_size(train_img)\n",
    "print(len(train_img))\n",
    "train_img = [img for img in train_img if img.size == (563, 537)]\n",
    "print(len(train_img)) \n"
   ]
  },
  {
   "cell_type": "code",
   "execution_count": null,
   "id": "651fb030",
   "metadata": {},
   "outputs": [],
   "source": [
    "def plot_bounding_boxes_on_img(dir_name, filename, df):\n",
    "\n",
    " # Groupby file name\n",
    "    grouped = df.groupby('filename')\n",
    "    df_grouped_by_filename = grouped.get_group(filename)\n",
    "\n",
    "    # Read image\n",
    "    print(dir_name)\n",
    "    print(filename)\n",
    "    img = plt.imread(os.path.join(dir_name, filename))\n",
    "    # Get dimensions\n",
    "    height, width = img.shape[:2]\n",
    "    # Create figure\n",
    "    fig, ax = plt.subplots(1)\n",
    "    # Display image\n",
    "    ax.imshow(img)\n",
    "    for xmin, ymin, xmax, ymax in zip(df_grouped_by_filename[\"xmin\"],\n",
    "        df_grouped_by_filename[\"ymin\"],df_grouped_by_filename[\"xmax\"],\n",
    "        df_grouped_by_filename[\"ymax\"]):\n",
    "        # Create a Rectangle patch\n",
    "        rect = patches.Rectangle((xmin, ymin), xmax - xmin, ymax - ymin, linewidth=5,\n",
    "    edgecolor='blue', facecolor='none')\n",
    "    # Add the patch to the Axes\n",
    "    ax.add_patch(rect)\n",
    "    plt.show()\n",
    "    i=[93,96,134,160]\n",
    "    for j in range (0,4):\n",
    "        plot_bounding_boxes_on_img(val_dir, val_filename[i[j]], val_df)"
   ]
  }
 ],
 "metadata": {
  "language_info": {
   "name": "python"
  }
 },
 "nbformat": 4,
 "nbformat_minor": 5
}
